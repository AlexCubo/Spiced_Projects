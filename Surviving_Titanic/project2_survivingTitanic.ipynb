{
 "cells": [
  {
   "cell_type": "code",
   "execution_count": 1,
   "id": "worldwide-interval",
   "metadata": {},
   "outputs": [],
   "source": [
    "# Import table and plot packages\n",
    "import pandas as pd\n",
    "import matplotlib.pyplot as plt\n",
    "import seaborn as sns\n",
    "import numpy as np\n",
    "\n",
    "#import logistic regression \n",
    "from sklearn.model_selection import train_test_split\n",
    "from sklearn.linear_model import LogisticRegression\n",
    "from sklearn import metrics \n",
    "from sklearn.dummy import DummyClassifier\n",
    "from sklearn import datasets\n",
    "from sklearn.tree import DecisionTreeClassifier\n",
    "from sklearn.ensemble import RandomForestClassifier\n",
    "from sklearn.model_selection import cross_validate\n",
    "\n",
    "# import feature engineer tools\n",
    "from sklearn.compose import ColumnTransformer\n",
    "from sklearn.pipeline import make_pipeline\n",
    "from sklearn.impute import SimpleImputer\n",
    "from sklearn.preprocessing import OneHotEncoder\n",
    "from sklearn.preprocessing import KBinsDiscretizer\n",
    "from sklearn.preprocessing import MinMaxScaler\n",
    "from sklearn.preprocessing import FunctionTransformer\n",
    "from sklearn.tree import DecisionTreeClassifier, plot_tree\n",
    "\n",
    "%matplotlib inline"
   ]
  },
  {
   "cell_type": "code",
   "execution_count": 2,
   "id": "political-yeast",
   "metadata": {},
   "outputs": [],
   "source": [
    "# reading train data\n",
    "trainDF = pd.read_csv(\"./data/train.csv\")"
   ]
  },
  {
   "cell_type": "markdown",
   "id": "dutch-paraguay",
   "metadata": {},
   "source": [
    "### Exploratory analysis"
   ]
  },
  {
   "cell_type": "markdown",
   "id": "ecological-folder",
   "metadata": {},
   "source": [
    "#### Plot the number of survived (1) and died (0) passengers"
   ]
  },
  {
   "cell_type": "code",
   "execution_count": 3,
   "id": "center-japanese",
   "metadata": {},
   "outputs": [],
   "source": [
    "groupSurv = trainDF.groupby(['Survived'])#, as_index=False)\n",
    "numSurvDied = groupSurv.count()\n",
    "numSurvDied.reset_index(inplace=True)"
   ]
  },
  {
   "cell_type": "code",
   "execution_count": 4,
   "id": "experimental-requirement",
   "metadata": {},
   "outputs": [
    {
     "data": {
      "image/png": "[encoded data removed]",
      "text/plain": [
       "<Figure size 216x216 with 1 Axes>"
      ]
     },
     "metadata": {
      "needs_background": "light"
     },
     "output_type": "display_data"
    }
   ],
   "source": [
    "fig, ax = plt.subplots(1, 1, figsize= (3,3))\n",
    "barPlt = sns.barplot(x='Survived', y='PassengerId', data=numSurvDied, ax=ax)"
   ]
  },
  {
   "cell_type": "markdown",
   "id": "victorian-sculpture",
   "metadata": {},
   "source": [
    "#### Proportion of survived in 1st with respect to 1st passengers"
   ]
  },
  {
   "cell_type": "code",
   "execution_count": 5,
   "id": "balanced-projector",
   "metadata": {},
   "outputs": [],
   "source": [
    "firstCl = trainDF.loc[trainDF['Pclass'] == 1]\n",
    "numFC = firstCl['Pclass'].value_counts()\n",
    "survFC = (firstCl['Survived']==1).value_counts()[1] #take the value that evaluates to true\n",
    "#print(survFC)\n",
    "propSurvFC = survFC /numFC\n",
    "#propSurvFC"
   ]
  },
  {
   "cell_type": "markdown",
   "id": "disabled-measurement",
   "metadata": {},
   "source": [
    "#### Plot bar: numbers of passengers per class (1, 2, 3) divided per sex"
   ]
  },
  {
   "cell_type": "code",
   "execution_count": 6,
   "id": "seven-patio",
   "metadata": {},
   "outputs": [
    {
     "data": {
      "text/plain": [
       "<matplotlib.legend.Legend at 0x7f53a900f4f0>"
      ]
     },
     "execution_count": 6,
     "metadata": {},
     "output_type": "execute_result"
    },
    {
     "data": {
      "image/png": "[encoded data removed]",
      "text/plain": [
       "<Figure size 288x216 with 1 Axes>"
      ]
     },
     "metadata": {
      "needs_background": "light"
     },
     "output_type": "display_data"
    }
   ],
   "source": [
    "fig, ax = plt.subplots(1, 1, figsize= (4,3))\n",
    "plt.title('Number of Titanic passengers')\n",
    "barPass = sns.barplot(x='Pclass', y='PassengerId', data=trainDF, hue='Sex', ax = ax)\n",
    "ax.legend(loc = (1.05,0.5))"
   ]
  },
  {
   "cell_type": "markdown",
   "id": "scheduled-background",
   "metadata": {},
   "source": [
    "#### Plot comparison suvived/not survived for all passengers (all classes, all sex, all ages)"
   ]
  },
  {
   "cell_type": "code",
   "execution_count": 7,
   "id": "utility-arthritis",
   "metadata": {},
   "outputs": [
    {
     "data": {
      "text/plain": [
       "<AxesSubplot:xlabel='Age', ylabel='Count'>"
      ]
     },
     "execution_count": 7,
     "metadata": {},
     "output_type": "execute_result"
    },
    {
     "data": {
      "image/png": "[encoded data removed]",
      "text/plain": [
       "<Figure size 288x216 with 1 Axes>"
      ]
     },
     "metadata": {
      "needs_background": "light"
     },
     "output_type": "display_data"
    }
   ],
   "source": [
    "fig, ax = plt.subplots(1, 1, figsize= (4,3))\n",
    "sns.histplot(data=trainDF, x='Age', bins=10, hue='Survived', element ='bars', fill=False,\n",
    "            cbar = True, alpha=0.7, palette=['black', 'red'], ax=ax)"
   ]
  },
  {
   "cell_type": "markdown",
   "id": "antique-arabic",
   "metadata": {},
   "source": [
    "#### age-average for surived and for not survived passengers"
   ]
  },
  {
   "cell_type": "code",
   "execution_count": 8,
   "id": "correct-george",
   "metadata": {},
   "outputs": [],
   "source": [
    "meanAge = groupSurv['Age'].mean()\n",
    "meanAgeSurv =  round(meanAge[1], 2)\n",
    "meanAgeDied = round(meanAge[0], 2)\n",
    "#print('Mean age survived:', meanAgeSurv)\n",
    "#print('Mean age died:', meanAgeDied)"
   ]
  },
  {
   "cell_type": "markdown",
   "id": "demanding-article",
   "metadata": {},
   "source": [
    "#### replace missing age"
   ]
  },
  {
   "cell_type": "code",
   "execution_count": 9,
   "id": "contrary-portsmouth",
   "metadata": {},
   "outputs": [],
   "source": [
    "trainDF['Age'] = trainDF[\"Age\"].fillna(0)"
   ]
  },
  {
   "cell_type": "code",
   "execution_count": 10,
   "id": "behavioral-consciousness",
   "metadata": {},
   "outputs": [],
   "source": [
    "survNotAge = (trainDF[\"Survived\"] == 1) & (trainDF[\"Age\"] == 0)\n",
    "diedNotAge = (trainDF[\"Survived\"] == 0) & (trainDF[\"Age\"] == 0)\n",
    "trainDF.loc[survNotAge, \"Age\"] = meanAgeSurv\n",
    "trainDF.loc[diedNotAge, \"Age\"] = meanAgeDied"
   ]
  },
  {
   "cell_type": "markdown",
   "id": "searching-anniversary",
   "metadata": {},
   "source": [
    "Step 8: create a table counting  number of surv-dead separatelly for 1st, 2st, 3st"
   ]
  },
  {
   "cell_type": "code",
   "execution_count": 11,
   "id": "great-submission",
   "metadata": {},
   "outputs": [
    {
     "data": {
      "text/html": [
       "<div>\n",
       "<style scoped>\n",
       "    .dataframe tbody tr th:only-of-type {\n",
       "        vertical-align: middle;\n",
       "    }\n",
       "\n",
       "    .dataframe tbody tr th {\n",
       "        vertical-align: top;\n",
       "    }\n",
       "\n",
       "    .dataframe thead th {\n",
       "        text-align: right;\n",
       "    }\n",
       "</style>\n",
       "<table border=\"1\" class=\"dataframe\">\n",
       "  <thead>\n",
       "    <tr style=\"text-align: right;\">\n",
       "      <th></th>\n",
       "      <th>Pclass</th>\n",
       "      <th>Sex</th>\n",
       "      <th>Survived</th>\n",
       "      <th>PassengerId</th>\n",
       "    </tr>\n",
       "  </thead>\n",
       "  <tbody>\n",
       "    <tr>\n",
       "      <th>0</th>\n",
       "      <td>1</td>\n",
       "      <td>female</td>\n",
       "      <td>0</td>\n",
       "      <td>3</td>\n",
       "    </tr>\n",
       "    <tr>\n",
       "      <th>1</th>\n",
       "      <td>1</td>\n",
       "      <td>female</td>\n",
       "      <td>1</td>\n",
       "      <td>91</td>\n",
       "    </tr>\n",
       "    <tr>\n",
       "      <th>2</th>\n",
       "      <td>1</td>\n",
       "      <td>male</td>\n",
       "      <td>0</td>\n",
       "      <td>77</td>\n",
       "    </tr>\n",
       "    <tr>\n",
       "      <th>3</th>\n",
       "      <td>1</td>\n",
       "      <td>male</td>\n",
       "      <td>1</td>\n",
       "      <td>45</td>\n",
       "    </tr>\n",
       "    <tr>\n",
       "      <th>4</th>\n",
       "      <td>2</td>\n",
       "      <td>female</td>\n",
       "      <td>0</td>\n",
       "      <td>6</td>\n",
       "    </tr>\n",
       "    <tr>\n",
       "      <th>5</th>\n",
       "      <td>2</td>\n",
       "      <td>female</td>\n",
       "      <td>1</td>\n",
       "      <td>70</td>\n",
       "    </tr>\n",
       "    <tr>\n",
       "      <th>6</th>\n",
       "      <td>2</td>\n",
       "      <td>male</td>\n",
       "      <td>0</td>\n",
       "      <td>91</td>\n",
       "    </tr>\n",
       "    <tr>\n",
       "      <th>7</th>\n",
       "      <td>2</td>\n",
       "      <td>male</td>\n",
       "      <td>1</td>\n",
       "      <td>17</td>\n",
       "    </tr>\n",
       "    <tr>\n",
       "      <th>8</th>\n",
       "      <td>3</td>\n",
       "      <td>female</td>\n",
       "      <td>0</td>\n",
       "      <td>72</td>\n",
       "    </tr>\n",
       "    <tr>\n",
       "      <th>9</th>\n",
       "      <td>3</td>\n",
       "      <td>female</td>\n",
       "      <td>1</td>\n",
       "      <td>72</td>\n",
       "    </tr>\n",
       "    <tr>\n",
       "      <th>10</th>\n",
       "      <td>3</td>\n",
       "      <td>male</td>\n",
       "      <td>0</td>\n",
       "      <td>300</td>\n",
       "    </tr>\n",
       "    <tr>\n",
       "      <th>11</th>\n",
       "      <td>3</td>\n",
       "      <td>male</td>\n",
       "      <td>1</td>\n",
       "      <td>47</td>\n",
       "    </tr>\n",
       "  </tbody>\n",
       "</table>\n",
       "</div>"
      ],
      "text/plain": [
       "    Pclass     Sex  Survived  PassengerId\n",
       "0        1  female         0            3\n",
       "1        1  female         1           91\n",
       "2        1    male         0           77\n",
       "3        1    male         1           45\n",
       "4        2  female         0            6\n",
       "5        2  female         1           70\n",
       "6        2    male         0           91\n",
       "7        2    male         1           17\n",
       "8        3  female         0           72\n",
       "9        3  female         1           72\n",
       "10       3    male         0          300\n",
       "11       3    male         1           47"
      ]
     },
     "execution_count": 11,
     "metadata": {},
     "output_type": "execute_result"
    }
   ],
   "source": [
    "classSexSurvGR = trainDF.groupby(['Pclass', 'Sex', 'Survived'], as_index=False)\n",
    "classSexSurvGR['PassengerId'].count()"
   ]
  },
  {
   "cell_type": "markdown",
   "id": "hired-dating",
   "metadata": {},
   "source": [
    "#### Build a baseline model with DummyClassifier"
   ]
  },
  {
   "cell_type": "code",
   "execution_count": 12,
   "id": "simplified-lesbian",
   "metadata": {},
   "outputs": [],
   "source": [
    "X = trainDF[[\"Pclass\"]]\n",
    "y = trainDF[\"Survived\"]"
   ]
  },
  {
   "cell_type": "code",
   "execution_count": 13,
   "id": "indie-petroleum",
   "metadata": {},
   "outputs": [],
   "source": [
    "X_train, X_test, y_train, y_test = train_test_split(X, y)\n",
    "#print(X_train.shape, y_train.shape)\n",
    "#print(X_test.shape, y_test.shape)"
   ]
  },
  {
   "cell_type": "code",
   "execution_count": 14,
   "id": "documented-spirituality",
   "metadata": {},
   "outputs": [],
   "source": [
    "dum_m = DummyClassifier(strategy = 'most_frequent')"
   ]
  },
  {
   "cell_type": "code",
   "execution_count": 15,
   "id": "sustained-brand",
   "metadata": {},
   "outputs": [
    {
     "data": {
      "text/plain": [
       "DummyClassifier(strategy='most_frequent')"
      ]
     },
     "execution_count": 15,
     "metadata": {},
     "output_type": "execute_result"
    }
   ],
   "source": [
    "dum_m.fit(X_train, y_train)"
   ]
  },
  {
   "cell_type": "markdown",
   "id": "entitled-shock",
   "metadata": {},
   "source": [
    "#### Calculate performance of dummy model"
   ]
  },
  {
   "cell_type": "code",
   "execution_count": 16,
   "id": "victorian-daniel",
   "metadata": {},
   "outputs": [
    {
     "name": "stdout",
     "output_type": "stream",
     "text": [
      "0.6107784431137725\n"
     ]
    }
   ],
   "source": [
    "\n",
    "y_pred_train = dum_m.predict(X_train)\n",
    "acc_train_dummy_mf = metrics.accuracy_score(y_train, y_pred_train)\n",
    "print(acc_train_dummy_mf)"
   ]
  },
  {
   "cell_type": "code",
   "execution_count": 17,
   "id": "defensive-sharp",
   "metadata": {},
   "outputs": [
    {
     "name": "stdout",
     "output_type": "stream",
     "text": [
      "0.6322869955156951\n"
     ]
    }
   ],
   "source": [
    "y_pred_test = dum_m.predict(X_test)\n",
    "acc_test_dummy_mf = metrics.accuracy_score(y_pred_test, y_test)\n",
    "print(acc_test_dummy_mf)"
   ]
  },
  {
   "cell_type": "code",
   "execution_count": 18,
   "id": "fatal-clarity",
   "metadata": {},
   "outputs": [],
   "source": [
    "#Same dummy test but with strategy= stratified\n",
    "dum_m = DummyClassifier(strategy = 'stratified')"
   ]
  },
  {
   "cell_type": "code",
   "execution_count": 19,
   "id": "muslim-lending",
   "metadata": {},
   "outputs": [
    {
     "data": {
      "text/plain": [
       "DummyClassifier(strategy='stratified')"
      ]
     },
     "execution_count": 19,
     "metadata": {},
     "output_type": "execute_result"
    }
   ],
   "source": [
    "dum_m.fit(X_train, y_train)"
   ]
  },
  {
   "cell_type": "code",
   "execution_count": 20,
   "id": "serial-blair",
   "metadata": {},
   "outputs": [
    {
     "name": "stdout",
     "output_type": "stream",
     "text": [
      "0.5449101796407185\n"
     ]
    }
   ],
   "source": [
    "y_pred_train = dum_m.predict(X_train)\n",
    "acc_train_dummy_st = metrics.accuracy_score(y_train, y_pred_train)\n",
    "print(acc_train_dummy_st)"
   ]
  },
  {
   "cell_type": "code",
   "execution_count": 21,
   "id": "excess-omaha",
   "metadata": {},
   "outputs": [
    {
     "name": "stdout",
     "output_type": "stream",
     "text": [
      "0.5426008968609866\n"
     ]
    }
   ],
   "source": [
    "y_pred_test = dum_m.predict(X_test)\n",
    "acc_test_dummy_st = metrics.accuracy_score(y_pred_test, y_test)\n",
    "print(acc_test_dummy_st)"
   ]
  },
  {
   "cell_type": "markdown",
   "id": "crucial-bread",
   "metadata": {},
   "source": [
    "* Note: the dummy model with strategy= stratified perfoms\n",
    "   worst than the dummy model with strategy= most_frequent!"
   ]
  },
  {
   "cell_type": "code",
   "execution_count": 22,
   "id": "fourth-complement",
   "metadata": {},
   "outputs": [
    {
     "name": "stdout",
     "output_type": "stream",
     "text": [
      "0.5119760479041916\n",
      "0.5112107623318386\n"
     ]
    }
   ],
   "source": [
    "#Same dummy test but with strategy= uniform\n",
    "dum_m = DummyClassifier(strategy = 'uniform')\n",
    "dum_m.fit(X_train, y_train)\n",
    "\n",
    "y_pred_train = dum_m.predict(X_train)\n",
    "acc_train_dummy_un = metrics.accuracy_score(y_train, y_pred_train)\n",
    "print(acc_train_dummy_un)\n",
    "\n",
    "y_pred_test = dum_m.predict(X_test)\n",
    "acc_test_dummy_un = metrics.accuracy_score(y_pred_test, y_test)\n",
    "print(acc_test_dummy_un)"
   ]
  },
  {
   "cell_type": "code",
   "execution_count": 23,
   "id": "recovered-search",
   "metadata": {},
   "outputs": [
    {
     "data": {
      "text/plain": [
       "Text(0.5, 1.0, 'Accuracy of Dummy Classifier for 3 different strategies')"
      ]
     },
     "execution_count": 23,
     "metadata": {},
     "output_type": "execute_result"
    },
    {
     "data": {
      "image/png": "[encoded data removed]",
      "text/plain": [
       "<Figure size 216x216 with 1 Axes>"
      ]
     },
     "metadata": {
      "needs_background": "light"
     },
     "output_type": "display_data"
    }
   ],
   "source": [
    "acc_dum_tr_data = {'Acc_train' : [acc_train_dummy_mf, acc_train_dummy_st, acc_train_dummy_un],\n",
    "                  'Acc_test' : [acc_test_dummy_mf, acc_test_dummy_st, acc_test_dummy_un]}\n",
    "labels = ['Most_fr', 'Strat', 'Unif']\n",
    "\n",
    "accDumDF = pd.DataFrame(acc_dum_tr_data, index=labels)\n",
    "fig, ax = plt.subplots(figsize = (3,3))\n",
    "sns.lineplot(data=accDumDF)\n",
    "plt.title('Accuracy of Dummy Classifier for 3 different strategies', size=14)"
   ]
  },
  {
   "cell_type": "markdown",
   "id": "swedish-sussex",
   "metadata": {},
   "source": [
    "* It seems that the best dummy model is the one that uses strategy=most_frequent"
   ]
  },
  {
   "cell_type": "markdown",
   "id": "specific-latino",
   "metadata": {},
   "source": [
    "#### Train the LogReg model "
   ]
  },
  {
   "cell_type": "markdown",
   "id": "smooth-patrol",
   "metadata": {},
   "source": [
    "1) Only one feature: Pclass"
   ]
  },
  {
   "cell_type": "code",
   "execution_count": 24,
   "id": "polyphonic-privilege",
   "metadata": {},
   "outputs": [],
   "source": [
    "# Create the model\n",
    "logReg_m = LogisticRegression(class_weight='balanced')"
   ]
  },
  {
   "cell_type": "code",
   "execution_count": 25,
   "id": "prostate-explosion",
   "metadata": {},
   "outputs": [
    {
     "data": {
      "text/plain": [
       "LogisticRegression(class_weight='balanced')"
      ]
     },
     "execution_count": 25,
     "metadata": {},
     "output_type": "execute_result"
    }
   ],
   "source": [
    "# X and y are the same as before\n",
    "logReg_m.fit(X, y)"
   ]
  },
  {
   "cell_type": "code",
   "execution_count": 26,
   "id": "obvious-helen",
   "metadata": {},
   "outputs": [
    {
     "name": "stdout",
     "output_type": "stream",
     "text": [
      "w = [[-0.84849995]] and b = [1.91625131]\n"
     ]
    }
   ],
   "source": [
    "# Check the calculated wights w and bias b\n",
    "w = logReg_m.coef_\n",
    "b = logReg_m.intercept_\n",
    "print('w =', w, 'and b =', b)"
   ]
  },
  {
   "cell_type": "code",
   "execution_count": 27,
   "id": "democratic-milan",
   "metadata": {},
   "outputs": [
    {
     "name": "stdout",
     "output_type": "stream",
     "text": [
      "0.6766467065868264\n"
     ]
    }
   ],
   "source": [
    "# Prediction training data and accuracy calculation\n",
    "y_pred_train = logReg_m.predict(X_train)\n",
    "acc_train_onlyPclass = metrics.accuracy_score(y_pred_train, y_train)\n",
    "print(acc_train_onlyPclass)"
   ]
  },
  {
   "cell_type": "code",
   "execution_count": 28,
   "id": "framed-shelter",
   "metadata": {},
   "outputs": [
    {
     "name": "stdout",
     "output_type": "stream",
     "text": [
      "0.6412556053811659\n"
     ]
    }
   ],
   "source": [
    "# Prediction test data and accuracy\n",
    "y_pred_test = logReg_m.predict(X_test)\n",
    "acc_test_onlyPclass = metrics.accuracy_score(y_pred_test, y_test)\n",
    "print(acc_test_onlyPclass)"
   ]
  },
  {
   "cell_type": "code",
   "execution_count": 29,
   "id": "english-manner",
   "metadata": {},
   "outputs": [],
   "source": [
    "# Calculation of probability of results\n",
    "prob_train_onlyPclass = logReg_m.predict_proba(X_train)\n",
    "\n",
    "#prob_train_t = prob_train.transpose()\n",
    "#len(prob_train_t[0])"
   ]
  },
  {
   "cell_type": "code",
   "execution_count": 30,
   "id": "proprietary-ready",
   "metadata": {},
   "outputs": [],
   "source": [
    "prob_test_onlyPclass = logReg_m.predict_proba(X_test)\n",
    "#prob_test"
   ]
  },
  {
   "cell_type": "markdown",
   "id": "blank-blocking",
   "metadata": {},
   "source": [
    "#### Try other thresholds and compare with 0.5 (using accuracy)"
   ]
  },
  {
   "cell_type": "code",
   "execution_count": 31,
   "id": "reasonable-accounting",
   "metadata": {},
   "outputs": [],
   "source": [
    "def compareTestAccur_bythres(firstTr, secondTr, prob):\n",
    "    pred_trfirst = np.where(prob[:, 1] >= firstTr, 1 , 0)\n",
    "    pred_trsec = np.where(prob[:, 1] >= secondTr, 1 , 0)\n",
    "    acc_first = metrics.accuracy_score(pred_trfirst, y_test)\n",
    "    acc_sec = metrics.accuracy_score(pred_trsec, y_test)\n",
    "    if acc_first >= acc_sec:\n",
    "        print(\"Threshold =\", firstTr, \"prefoms better than\", secondTr)\n",
    "    else:\n",
    "        print(\"Threshold =\", firstTr, \"prefoms worst than\", secondTr)"
   ]
  },
  {
   "cell_type": "code",
   "execution_count": 32,
   "id": "hispanic-clearing",
   "metadata": {},
   "outputs": [
    {
     "name": "stdout",
     "output_type": "stream",
     "text": [
      "Threshold = 0.9 prefoms worst than 0.5\n",
      "Threshold = 0.1 prefoms worst than 0.5\n",
      "Threshold = 0.1 prefoms worst than 0.9\n"
     ]
    }
   ],
   "source": [
    "compareTestAccur_bythres(0.9, 0.5, prob_test_onlyPclass)\n",
    "compareTestAccur_bythres(0.1, 0.5, prob_test_onlyPclass)\n",
    "compareTestAccur_bythres(0.1, 0.9, prob_test_onlyPclass)"
   ]
  },
  {
   "cell_type": "markdown",
   "id": "homeless-efficiency",
   "metadata": {},
   "source": [
    "#### Compare logReg_m accuracy with DummyClassifier accuracy\n",
    "* The Logistic regression model wins!"
   ]
  },
  {
   "cell_type": "code",
   "execution_count": 33,
   "id": "sound-teach",
   "metadata": {},
   "outputs": [
    {
     "name": "stdout",
     "output_type": "stream",
     "text": [
      "DummyClassifier accuracy (most_frequent) for test data = 0.6322869955156951\n",
      "LogisticRegression accuracy for test data = 0.6412556053811659\n"
     ]
    }
   ],
   "source": [
    "print('DummyClassifier accuracy (most_frequent) for test data =', acc_test_dummy_mf)\n",
    "print('LogisticRegression accuracy for test data =', acc_test_onlyPclass)"
   ]
  },
  {
   "cell_type": "markdown",
   "id": "sensitive-state",
   "metadata": {},
   "source": [
    "#### Adding features: Age and sex of passengers"
   ]
  },
  {
   "cell_type": "code",
   "execution_count": 34,
   "id": "bearing-optimization",
   "metadata": {},
   "outputs": [
    {
     "data": {
      "text/html": [
       "<div>\n",
       "<style scoped>\n",
       "    .dataframe tbody tr th:only-of-type {\n",
       "        vertical-align: middle;\n",
       "    }\n",
       "\n",
       "    .dataframe tbody tr th {\n",
       "        vertical-align: top;\n",
       "    }\n",
       "\n",
       "    .dataframe thead th {\n",
       "        text-align: right;\n",
       "    }\n",
       "</style>\n",
       "<table border=\"1\" class=\"dataframe\">\n",
       "  <thead>\n",
       "    <tr style=\"text-align: right;\">\n",
       "      <th></th>\n",
       "      <th>PassengerId</th>\n",
       "      <th>Survived</th>\n",
       "      <th>Pclass</th>\n",
       "      <th>Name</th>\n",
       "      <th>Sex</th>\n",
       "      <th>Age</th>\n",
       "      <th>SibSp</th>\n",
       "      <th>Parch</th>\n",
       "      <th>Ticket</th>\n",
       "      <th>Fare</th>\n",
       "      <th>Cabin</th>\n",
       "      <th>Embarked</th>\n",
       "    </tr>\n",
       "  </thead>\n",
       "  <tbody>\n",
       "    <tr>\n",
       "      <th>888</th>\n",
       "      <td>889</td>\n",
       "      <td>0</td>\n",
       "      <td>3</td>\n",
       "      <td>Johnston, Miss. Catherine Helen \"Carrie\"</td>\n",
       "      <td>female</td>\n",
       "      <td>30.63</td>\n",
       "      <td>1</td>\n",
       "      <td>2</td>\n",
       "      <td>W./C. 6607</td>\n",
       "      <td>23.45</td>\n",
       "      <td>NaN</td>\n",
       "      <td>S</td>\n",
       "    </tr>\n",
       "    <tr>\n",
       "      <th>889</th>\n",
       "      <td>890</td>\n",
       "      <td>1</td>\n",
       "      <td>1</td>\n",
       "      <td>Behr, Mr. Karl Howell</td>\n",
       "      <td>male</td>\n",
       "      <td>26.00</td>\n",
       "      <td>0</td>\n",
       "      <td>0</td>\n",
       "      <td>111369</td>\n",
       "      <td>30.00</td>\n",
       "      <td>C148</td>\n",
       "      <td>C</td>\n",
       "    </tr>\n",
       "    <tr>\n",
       "      <th>890</th>\n",
       "      <td>891</td>\n",
       "      <td>0</td>\n",
       "      <td>3</td>\n",
       "      <td>Dooley, Mr. Patrick</td>\n",
       "      <td>male</td>\n",
       "      <td>32.00</td>\n",
       "      <td>0</td>\n",
       "      <td>0</td>\n",
       "      <td>370376</td>\n",
       "      <td>7.75</td>\n",
       "      <td>NaN</td>\n",
       "      <td>Q</td>\n",
       "    </tr>\n",
       "  </tbody>\n",
       "</table>\n",
       "</div>"
      ],
      "text/plain": [
       "     PassengerId  Survived  Pclass                                      Name  \\\n",
       "888          889         0       3  Johnston, Miss. Catherine Helen \"Carrie\"   \n",
       "889          890         1       1                     Behr, Mr. Karl Howell   \n",
       "890          891         0       3                       Dooley, Mr. Patrick   \n",
       "\n",
       "        Sex    Age  SibSp  Parch      Ticket   Fare Cabin Embarked  \n",
       "888  female  30.63      1      2  W./C. 6607  23.45   NaN        S  \n",
       "889    male  26.00      0      0      111369  30.00  C148        C  \n",
       "890    male  32.00      0      0      370376   7.75   NaN        Q  "
      ]
     },
     "execution_count": 34,
     "metadata": {},
     "output_type": "execute_result"
    }
   ],
   "source": [
    "trainDF.tail(3)"
   ]
  },
  {
   "cell_type": "code",
   "execution_count": 35,
   "id": "dramatic-hormone",
   "metadata": {},
   "outputs": [],
   "source": [
    "# convert sex to binary: 0 male, 1 female\n",
    "trainDF[\"Sex\"] = np.where(trainDF[\"Sex\"] == 'female', 1, 0)\n",
    "#trainDF.head(5)"
   ]
  },
  {
   "cell_type": "code",
   "execution_count": 36,
   "id": "declared-specification",
   "metadata": {},
   "outputs": [
    {
     "name": "stdout",
     "output_type": "stream",
     "text": [
      "(891, 3) (891,)\n"
     ]
    },
    {
     "data": {
      "text/html": [
       "<div>\n",
       "<style scoped>\n",
       "    .dataframe tbody tr th:only-of-type {\n",
       "        vertical-align: middle;\n",
       "    }\n",
       "\n",
       "    .dataframe tbody tr th {\n",
       "        vertical-align: top;\n",
       "    }\n",
       "\n",
       "    .dataframe thead th {\n",
       "        text-align: right;\n",
       "    }\n",
       "</style>\n",
       "<table border=\"1\" class=\"dataframe\">\n",
       "  <thead>\n",
       "    <tr style=\"text-align: right;\">\n",
       "      <th></th>\n",
       "      <th>Pclass</th>\n",
       "      <th>Age</th>\n",
       "      <th>Sex</th>\n",
       "    </tr>\n",
       "  </thead>\n",
       "  <tbody>\n",
       "    <tr>\n",
       "      <th>0</th>\n",
       "      <td>3</td>\n",
       "      <td>22.0</td>\n",
       "      <td>0</td>\n",
       "    </tr>\n",
       "    <tr>\n",
       "      <th>1</th>\n",
       "      <td>1</td>\n",
       "      <td>38.0</td>\n",
       "      <td>1</td>\n",
       "    </tr>\n",
       "    <tr>\n",
       "      <th>2</th>\n",
       "      <td>3</td>\n",
       "      <td>26.0</td>\n",
       "      <td>1</td>\n",
       "    </tr>\n",
       "    <tr>\n",
       "      <th>3</th>\n",
       "      <td>1</td>\n",
       "      <td>35.0</td>\n",
       "      <td>1</td>\n",
       "    </tr>\n",
       "    <tr>\n",
       "      <th>4</th>\n",
       "      <td>3</td>\n",
       "      <td>35.0</td>\n",
       "      <td>0</td>\n",
       "    </tr>\n",
       "  </tbody>\n",
       "</table>\n",
       "</div>"
      ],
      "text/plain": [
       "   Pclass   Age  Sex\n",
       "0       3  22.0    0\n",
       "1       1  38.0    1\n",
       "2       3  26.0    1\n",
       "3       1  35.0    1\n",
       "4       3  35.0    0"
      ]
     },
     "execution_count": 36,
     "metadata": {},
     "output_type": "execute_result"
    }
   ],
   "source": [
    "X = trainDF[[\"Pclass\", \"Age\", \"Sex\"]]\n",
    "y = trainDF[\"Survived\"]\n",
    "print(X.shape, y.shape)\n",
    "X.head()"
   ]
  },
  {
   "cell_type": "code",
   "execution_count": 37,
   "id": "previous-minutes",
   "metadata": {},
   "outputs": [],
   "source": [
    "# splitting again into training and test data\n",
    "X_train, X_test, y_train, y_test = train_test_split(X, y)"
   ]
  },
  {
   "cell_type": "code",
   "execution_count": 38,
   "id": "plastic-salmon",
   "metadata": {},
   "outputs": [
    {
     "data": {
      "text/plain": [
       "LogisticRegression(class_weight='balanced')"
      ]
     },
     "execution_count": 38,
     "metadata": {},
     "output_type": "execute_result"
    }
   ],
   "source": [
    "#fit again the logistic regression model (logReg_m already instantiated)\n",
    "logReg_m.fit(X_train, y_train)"
   ]
  },
  {
   "cell_type": "code",
   "execution_count": 39,
   "id": "charged-committee",
   "metadata": {},
   "outputs": [
    {
     "name": "stdout",
     "output_type": "stream",
     "text": [
      "weights:\n",
      "w1 = -0.8988321597383074 \n",
      "w2= -0.03232263852414753 \n",
      "w3 = 2.428988647794421 \n",
      "intercept:\n",
      "b 2.069103764185292\n"
     ]
    }
   ],
   "source": [
    "ws, b = logReg_m.coef_, logReg_m.intercept_\n",
    "print('weights:\\nw1 =', ws[0][0], \n",
    "      '\\nw2=', ws[0][1], \n",
    "      '\\nw3 =', ws[0][2], \n",
    "      '\\nintercept:\\nb', b[0])"
   ]
  },
  {
   "cell_type": "code",
   "execution_count": 40,
   "id": "through-division",
   "metadata": {},
   "outputs": [
    {
     "name": "stdout",
     "output_type": "stream",
     "text": [
      "0.7784431137724551\n"
     ]
    }
   ],
   "source": [
    "# Prediction training data and accuracy calculation\n",
    "y_pred_train = logReg_m.predict(X_train)\n",
    "acc_train_class_age_sex = metrics.accuracy_score(y_pred_train, y_train)\n",
    "print(acc_train_class_age_sex)"
   ]
  },
  {
   "cell_type": "code",
   "execution_count": 41,
   "id": "collectible-leone",
   "metadata": {},
   "outputs": [
    {
     "name": "stdout",
     "output_type": "stream",
     "text": [
      "0.820627802690583\n"
     ]
    }
   ],
   "source": [
    "# Prediction test data and accuracy calculation\n",
    "y_pred_test = logReg_m.predict(X_test)\n",
    "acc_test_class_age_sex = metrics.accuracy_score(y_pred_test, y_test)\n",
    "print(acc_test_class_age_sex)"
   ]
  },
  {
   "cell_type": "markdown",
   "id": "answering-thomson",
   "metadata": {},
   "source": [
    "* The model trained with 3 features (passenger class, age and sex) performs\n",
    " better than model trained with only one feature (Pclass)\n",
    "* For training data : 3 features metod is 18.2% better than 1 feature method\n",
    "* For test data : 3 features metod is 22.2% better than 1 feature method"
   ]
  },
  {
   "cell_type": "code",
   "execution_count": 42,
   "id": "alpha-monitoring",
   "metadata": {},
   "outputs": [
    {
     "name": "stdout",
     "output_type": "stream",
     "text": [
      "15.04 27.97\n"
     ]
    },
    {
     "data": {
      "image/png": "[encoded data removed]",
      "text/plain": [
       "<Figure size 288x288 with 1 Axes>"
      ]
     },
     "metadata": {
      "needs_background": "light"
     },
     "output_type": "display_data"
    }
   ],
   "source": [
    "accs_data = {'dataset': ['train', 'train', 'test', 'test'],\n",
    "             'accuracy' : [acc_train_onlyPclass, acc_train_class_age_sex,\n",
    "                           acc_test_onlyPclass, acc_test_class_age_sex],\n",
    "             'used_feats': ['Pclass', 'Pclass_age_sex', 'Pclass', 'Pclass_age_sex']}\n",
    "accDF = pd.DataFrame(accs_data)\n",
    "accDF\n",
    "fig, ax = plt.subplots(figsize=(4,4))\n",
    "sns.barplot(data=accDF, x='dataset', y='accuracy', hue='used_feats', ax=ax)\n",
    "ax.legend(loc = (1.05,0.5))\n",
    "acc_diff_train = (acc_train_class_age_sex - acc_train_onlyPclass)*100/acc_train_onlyPclass\n",
    "acc_diff_test = (acc_test_class_age_sex-acc_test_onlyPclass)*100/acc_test_onlyPclass\n",
    "print(round(acc_diff_train, 2), round(acc_diff_test,2))"
   ]
  },
  {
   "cell_type": "markdown",
   "id": "second-verification",
   "metadata": {},
   "source": [
    "### From here working with model trained with 3 features"
   ]
  },
  {
   "cell_type": "code",
   "execution_count": 43,
   "id": "cubic-brisbane",
   "metadata": {},
   "outputs": [
    {
     "data": {
      "text/plain": [
       "array([[106,  27],\n",
       "       [ 13,  77]])"
      ]
     },
     "execution_count": 43,
     "metadata": {},
     "output_type": "execute_result"
    }
   ],
   "source": [
    "# calculate precision and recall\n",
    "metrics.confusion_matrix(y_test, y_pred_test)"
   ]
  },
  {
   "cell_type": "code",
   "execution_count": 44,
   "id": "proper-capability",
   "metadata": {},
   "outputs": [
    {
     "data": {
      "text/plain": [
       "<sklearn.metrics._plot.confusion_matrix.ConfusionMatrixDisplay at 0x7f53a6529940>"
      ]
     },
     "execution_count": 44,
     "metadata": {},
     "output_type": "execute_result"
    },
    {
     "data": {
      "image/png": "[encoded data removed]",
      "text/plain": [
       "<Figure size 432x288 with 2 Axes>"
      ]
     },
     "metadata": {
      "needs_background": "light"
     },
     "output_type": "display_data"
    }
   ],
   "source": [
    "metrics.plot_confusion_matrix(logReg_m, X_test, y_test, normalize=None)"
   ]
  },
  {
   "cell_type": "code",
   "execution_count": 45,
   "id": "crazy-ministry",
   "metadata": {},
   "outputs": [
    {
     "data": {
      "text/plain": [
       "0.7403846153846154"
      ]
     },
     "execution_count": 45,
     "metadata": {},
     "output_type": "execute_result"
    }
   ],
   "source": [
    "prec_class_age_sex = metrics.precision_score(y_test, y_pred_test, pos_label=1)\n",
    "prec_class_age_sex"
   ]
  },
  {
   "cell_type": "code",
   "execution_count": 46,
   "id": "removable-multimedia",
   "metadata": {},
   "outputs": [
    {
     "data": {
      "text/plain": [
       "0.8555555555555555"
      ]
     },
     "execution_count": 46,
     "metadata": {},
     "output_type": "execute_result"
    }
   ],
   "source": [
    "rec_class_age_sex = metrics.recall_score(y_test, y_pred_test, pos_label=1)\n",
    "rec_class_age_sex"
   ]
  },
  {
   "cell_type": "markdown",
   "id": "vulnerable-reproduction",
   "metadata": {},
   "source": [
    "#### Draw a ROC curve or precision-recall plot"
   ]
  },
  {
   "cell_type": "code",
   "execution_count": 47,
   "id": "technological-retro",
   "metadata": {},
   "outputs": [
    {
     "data": {
      "text/plain": [
       "<sklearn.metrics._plot.roc_curve.RocCurveDisplay at 0x7f53a6eb2880>"
      ]
     },
     "execution_count": 47,
     "metadata": {},
     "output_type": "execute_result"
    },
    {
     "data": {
      "image/png": "[encoded data removed]",
      "text/plain": [
       "<Figure size 432x288 with 1 Axes>"
      ]
     },
     "metadata": {
      "needs_background": "light"
     },
     "output_type": "display_data"
    }
   ],
   "source": [
    "metrics.plot_roc_curve(logReg_m, X_test, y_test)"
   ]
  },
  {
   "cell_type": "code",
   "execution_count": 48,
   "id": "intermediate-smoke",
   "metadata": {},
   "outputs": [
    {
     "data": {
      "text/plain": [
       "<sklearn.metrics._plot.precision_recall_curve.PrecisionRecallDisplay at 0x7f53a6439460>"
      ]
     },
     "execution_count": 48,
     "metadata": {},
     "output_type": "execute_result"
    },
    {
     "data": {
      "image/png": "[encoded data removed]",
      "text/plain": [
       "<Figure size 432x288 with 1 Axes>"
      ]
     },
     "metadata": {
      "needs_background": "light"
     },
     "output_type": "display_data"
    }
   ],
   "source": [
    "metrics.plot_precision_recall_curve(logReg_m, X_test, y_test)"
   ]
  },
  {
   "cell_type": "markdown",
   "id": "reliable-anthropology",
   "metadata": {},
   "source": [
    "#### Plot prediction for training and test dataset"
   ]
  },
  {
   "cell_type": "code",
   "execution_count": 49,
   "id": "acting-currency",
   "metadata": {},
   "outputs": [
    {
     "data": {
      "image/png": "[encoded data removed]",
      "text/plain": [
       "<Figure size 720x216 with 2 Axes>"
      ]
     },
     "metadata": {
      "needs_background": "light"
     },
     "output_type": "display_data"
    }
   ],
   "source": [
    "# plot Pclasse vs age and Sex vs age for  training\n",
    "fig, axs = plt.subplots(1,2, figsize=(10,3))\n",
    "sns.scatterplot(data = X_train, x=\"Pclass\", y=\"Age\", hue = y_pred_train, ax =axs[0], legend=None)\n",
    "#sns.scatterplot(data = X_train, x=\"Pclass\", y=\"Sex\", hue = y_pred_train, ax =axs[1], legend=None)\n",
    "sns.scatterplot(data = X_train, x=\"Sex\", y=\"Age\", hue = y_pred_train, ax =axs[1])\n",
    "axs[1].legend(loc='center left', bbox_to_anchor=(1.2, 0.87), ncol=1)\n",
    "fig.subplots_adjust(left=None, bottom=None, right=None, top=None, wspace=0.4, hspace=None)"
   ]
  },
  {
   "cell_type": "code",
   "execution_count": 50,
   "id": "vocational-fellowship",
   "metadata": {},
   "outputs": [
    {
     "data": {
      "image/png": "[encoded data removed]",
      "text/plain": [
       "<Figure size 720x216 with 2 Axes>"
      ]
     },
     "metadata": {
      "needs_background": "light"
     },
     "output_type": "display_data"
    }
   ],
   "source": [
    "# plot Pclasse vs age and Sex vs age for  training\n",
    "fig, axs = plt.subplots(1,2, figsize=(10,3))\n",
    "sns.scatterplot(data = X_test, x=\"Pclass\", y=\"Age\", hue = y_pred_test, ax =axs[0], legend=None)\n",
    "#sns.scatterplot(data = X_test, x=\"Pclass\", y=\"Sex\", hue = y_pred_test, ax =axs[1], legend=None)\n",
    "sns.scatterplot(data = X_test, x=\"Sex\", y=\"Age\", hue = y_pred_test, ax =axs[1])\n",
    "axs[1].legend(loc='center left', bbox_to_anchor=(1.2, 0.87), ncol=1)\n",
    "fig.subplots_adjust(left=None, bottom=None, right=None, top=None, wspace=0.4, hspace=None)"
   ]
  },
  {
   "cell_type": "markdown",
   "id": "blocked-dream",
   "metadata": {},
   "source": [
    "#### Decision boundary for Pclass and age"
   ]
  },
  {
   "cell_type": "code",
   "execution_count": 51,
   "id": "helpful-millennium",
   "metadata": {},
   "outputs": [],
   "source": [
    "sub_X_train = X_train[['Pclass', 'Age']]\n",
    "# y_train is already defined"
   ]
  },
  {
   "cell_type": "markdown",
   "id": "silent-attack",
   "metadata": {},
   "source": [
    "#### Train a DecisionTreeClassifier\n"
   ]
  },
  {
   "cell_type": "code",
   "execution_count": 52,
   "id": "congressional-intake",
   "metadata": {},
   "outputs": [
    {
     "data": {
      "text/plain": [
       "LogisticRegression()"
      ]
     },
     "execution_count": 52,
     "metadata": {},
     "output_type": "execute_result"
    }
   ],
   "source": [
    "DTC_model = DecisionTreeClassifier(max_depth= 4)\n",
    "DTC_model.fit(sub_X_train, y_train)\n",
    "\n",
    "LogReg_model = LogisticRegression()\n",
    "LogReg_model.fit(sub_X_train, y_train)"
   ]
  },
  {
   "cell_type": "code",
   "execution_count": 53,
   "id": "varied-charity",
   "metadata": {},
   "outputs": [],
   "source": [
    "#step size for the mesh\n",
    "h = 0.01"
   ]
  },
  {
   "cell_type": "code",
   "execution_count": 54,
   "id": "advised-honolulu",
   "metadata": {},
   "outputs": [
    {
     "data": {
      "text/html": [
       "<div>\n",
       "<style scoped>\n",
       "    .dataframe tbody tr th:only-of-type {\n",
       "        vertical-align: middle;\n",
       "    }\n",
       "\n",
       "    .dataframe tbody tr th {\n",
       "        vertical-align: top;\n",
       "    }\n",
       "\n",
       "    .dataframe thead th {\n",
       "        text-align: right;\n",
       "    }\n",
       "</style>\n",
       "<table border=\"1\" class=\"dataframe\">\n",
       "  <thead>\n",
       "    <tr style=\"text-align: right;\">\n",
       "      <th></th>\n",
       "      <th>Pclass</th>\n",
       "      <th>Age</th>\n",
       "    </tr>\n",
       "  </thead>\n",
       "  <tbody>\n",
       "    <tr>\n",
       "      <th>62</th>\n",
       "      <td>1</td>\n",
       "      <td>45.0</td>\n",
       "    </tr>\n",
       "    <tr>\n",
       "      <th>498</th>\n",
       "      <td>1</td>\n",
       "      <td>25.0</td>\n",
       "    </tr>\n",
       "    <tr>\n",
       "      <th>500</th>\n",
       "      <td>3</td>\n",
       "      <td>17.0</td>\n",
       "    </tr>\n",
       "  </tbody>\n",
       "</table>\n",
       "</div>"
      ],
      "text/plain": [
       "     Pclass   Age\n",
       "62        1  45.0\n",
       "498       1  25.0\n",
       "500       3  17.0"
      ]
     },
     "execution_count": 54,
     "metadata": {},
     "output_type": "execute_result"
    }
   ],
   "source": [
    "sub_X_train.head(3)"
   ]
  },
  {
   "cell_type": "markdown",
   "id": "organic-institute",
   "metadata": {},
   "source": [
    "#### plotting decision regions for training data"
   ]
  },
  {
   "cell_type": "code",
   "execution_count": 55,
   "id": "reasonable-military",
   "metadata": {},
   "outputs": [],
   "source": [
    "\n",
    "x_min, x_max = sub_X_train['Pclass'].min() - 1, sub_X_train['Pclass'].max() + 1\n",
    "y_min, y_max = sub_X_train['Age'].min() - 5, sub_X_train['Age'].max() + 5\n",
    "xx, yy = np.meshgrid(np.arange(x_min, x_max, h),\n",
    "                     np.arange(y_min, y_max, h))"
   ]
  },
  {
   "cell_type": "code",
   "execution_count": 56,
   "id": "warming-atmosphere",
   "metadata": {},
   "outputs": [
    {
     "data": {
      "image/png": "[encoded data removed]",
      "text/plain": [
       "<Figure size 648x288 with 2 Axes>"
      ]
     },
     "metadata": {
      "needs_background": "light"
     },
     "output_type": "display_data"
    }
   ],
   "source": [
    "f, axs = plt.subplots(1,2, sharex='col', sharey='row', figsize=(9,4))\n",
    "Xgrid = np.c_[xx.ravel(), yy.ravel()]\n",
    "Z = DTC_model.predict(Xgrid)\n",
    "ZlogReg = LogReg_model.predict(Xgrid)\n",
    "\n",
    "#put results into a color plot\n",
    "Z = Z.reshape(xx.shape)\n",
    "ZlogReg = ZlogReg.reshape(xx.shape)\n",
    "axs[0].contourf(xx, yy, Z, alpha=0.4)\n",
    "axs[1].contourf(xx, yy, ZlogReg, alpha=0.4)\n",
    "\n",
    "#plot the training points\n",
    "axs[0].scatter(sub_X_train[\"Pclass\"], sub_X_train[\"Age\"], c=y_train, s=50, edgecolors='k' )\n",
    "axs[0].set_title(f'DT boundary (depth=4),training Score: {round(DTC_model.score(sub_X_train, y_train),2)}')\n",
    "\n",
    "axs[1].scatter(sub_X_train[\"Pclass\"], sub_X_train[\"Age\"], c=y_train, s=50, edgecolors='k' )\n",
    "axs[1].set_title(f'LogReg boundary, training Score: {round(LogReg_model.score(sub_X_train, y_train),2)}')\n",
    "plt.xlabel('Pclass')\n",
    "plt.ylabel('Age')\n",
    "\n",
    "plt.show()"
   ]
  },
  {
   "cell_type": "markdown",
   "id": "fatal-shame",
   "metadata": {},
   "source": [
    "#### plotting decision regions for test data"
   ]
  },
  {
   "cell_type": "code",
   "execution_count": 57,
   "id": "reasonable-living",
   "metadata": {},
   "outputs": [],
   "source": [
    "sub_X_test = X_test[['Pclass', 'Age']]\n",
    "x_min, x_max = sub_X_test['Pclass'].min() - 1, sub_X_test['Pclass'].max() + 1\n",
    "y_min, y_max = sub_X_test['Age'].min() - 5, sub_X_test['Age'].max() + 5\n",
    "xx, yy = np.meshgrid(np.arange(x_min, x_max, h),\n",
    "                     np.arange(y_min, y_max, h))"
   ]
  },
  {
   "cell_type": "code",
   "execution_count": 58,
   "id": "color-spice",
   "metadata": {},
   "outputs": [
    {
     "data": {
      "image/png": "[encoded data removed]",
      "text/plain": [
       "<Figure size 648x288 with 2 Axes>"
      ]
     },
     "metadata": {
      "needs_background": "light"
     },
     "output_type": "display_data"
    }
   ],
   "source": [
    "f, axs = plt.subplots(1,2, sharex='col', sharey='row', figsize=(9,4))\n",
    "Xgrid = np.c_[xx.ravel(), yy.ravel()]\n",
    "Z = DTC_model.predict(Xgrid)\n",
    "ZlogReg = LogReg_model.predict(Xgrid)\n",
    "\n",
    "#put results into a color plot\n",
    "Z = Z.reshape(xx.shape)\n",
    "ZlogReg = ZlogReg.reshape(xx.shape)\n",
    "axs[0].contourf(xx, yy, Z, alpha=0.4)\n",
    "axs[1].contourf(xx, yy, ZlogReg, alpha=0.4)\n",
    "\n",
    "#plot the training points\n",
    "axs[0].scatter(sub_X_test[\"Pclass\"], sub_X_test[\"Age\"], c=y_test, s=50, edgecolors='k' )\n",
    "axs[0].set_title(f'DT boundary (depth=4),test Score: {round(DTC_model.score(sub_X_test, y_test),2)}')\n",
    "axs[1].scatter(sub_X_test[\"Pclass\"], sub_X_test[\"Age\"], c=y_test, s=50, edgecolors='k' )\n",
    "axs[1].set_title(f'LogReg boundary,test Score: {round(LogReg_model.score(sub_X_test, y_test),2)}')\n",
    "plt.xlabel('Pclass')\n",
    "plt.ylabel('Age')\n",
    "\n",
    "plt.show()"
   ]
  },
  {
   "cell_type": "code",
   "execution_count": 59,
   "id": "mysterious-penny",
   "metadata": {},
   "outputs": [
    {
     "data": {
      "text/html": [
       "<div>\n",
       "<style scoped>\n",
       "    .dataframe tbody tr th:only-of-type {\n",
       "        vertical-align: middle;\n",
       "    }\n",
       "\n",
       "    .dataframe tbody tr th {\n",
       "        vertical-align: top;\n",
       "    }\n",
       "\n",
       "    .dataframe thead th {\n",
       "        text-align: right;\n",
       "    }\n",
       "</style>\n",
       "<table border=\"1\" class=\"dataframe\">\n",
       "  <thead>\n",
       "    <tr style=\"text-align: right;\">\n",
       "      <th></th>\n",
       "      <th>PassengerId</th>\n",
       "      <th>Survived</th>\n",
       "      <th>Pclass</th>\n",
       "      <th>Name</th>\n",
       "      <th>Sex</th>\n",
       "      <th>Age</th>\n",
       "      <th>SibSp</th>\n",
       "      <th>Parch</th>\n",
       "      <th>Ticket</th>\n",
       "      <th>Fare</th>\n",
       "      <th>Cabin</th>\n",
       "      <th>Embarked</th>\n",
       "    </tr>\n",
       "  </thead>\n",
       "  <tbody>\n",
       "    <tr>\n",
       "      <th>0</th>\n",
       "      <td>1</td>\n",
       "      <td>0</td>\n",
       "      <td>3</td>\n",
       "      <td>Braund, Mr. Owen Harris</td>\n",
       "      <td>0</td>\n",
       "      <td>22.0</td>\n",
       "      <td>1</td>\n",
       "      <td>0</td>\n",
       "      <td>A/5 21171</td>\n",
       "      <td>7.2500</td>\n",
       "      <td>NaN</td>\n",
       "      <td>S</td>\n",
       "    </tr>\n",
       "    <tr>\n",
       "      <th>1</th>\n",
       "      <td>2</td>\n",
       "      <td>1</td>\n",
       "      <td>1</td>\n",
       "      <td>Cumings, Mrs. John Bradley (Florence Briggs Th...</td>\n",
       "      <td>1</td>\n",
       "      <td>38.0</td>\n",
       "      <td>1</td>\n",
       "      <td>0</td>\n",
       "      <td>PC 17599</td>\n",
       "      <td>71.2833</td>\n",
       "      <td>C85</td>\n",
       "      <td>C</td>\n",
       "    </tr>\n",
       "  </tbody>\n",
       "</table>\n",
       "</div>"
      ],
      "text/plain": [
       "   PassengerId  Survived  Pclass  \\\n",
       "0            1         0       3   \n",
       "1            2         1       1   \n",
       "\n",
       "                                                Name  Sex   Age  SibSp  Parch  \\\n",
       "0                            Braund, Mr. Owen Harris    0  22.0      1      0   \n",
       "1  Cumings, Mrs. John Bradley (Florence Briggs Th...    1  38.0      1      0   \n",
       "\n",
       "      Ticket     Fare Cabin Embarked  \n",
       "0  A/5 21171   7.2500   NaN        S  \n",
       "1   PC 17599  71.2833   C85        C  "
      ]
     },
     "execution_count": 59,
     "metadata": {},
     "output_type": "execute_result"
    }
   ],
   "source": [
    "trainDF.head(2)"
   ]
  },
  {
   "cell_type": "markdown",
   "id": "worst-filename",
   "metadata": {},
   "source": [
    "#### Check if there are missing values in some colum\n",
    "* Only columns \"Cabin\" and \"Embarked\" have missing values"
   ]
  },
  {
   "cell_type": "code",
   "execution_count": 60,
   "id": "comparative-basis",
   "metadata": {},
   "outputs": [
    {
     "name": "stdout",
     "output_type": "stream",
     "text": [
      "PassengerId \t\t missed values?\t\t False\n",
      "Survived \t\t missed values?\t\t False\n",
      "Pclass \t\t missed values?\t\t False\n",
      "Name \t\t missed values?\t\t False\n",
      "Sex \t\t missed values?\t\t False\n",
      "Age \t\t missed values?\t\t False\n",
      "SibSp \t\t missed values?\t\t False\n",
      "Parch \t\t missed values?\t\t False\n",
      "Ticket \t\t missed values?\t\t False\n",
      "Fare \t\t missed values?\t\t False\n",
      "Cabin \t\t missed values?\t\t True\n",
      "Embarked \t\t missed values?\t\t True\n"
     ]
    },
    {
     "data": {
      "text/plain": [
       "PassengerId      0\n",
       "Survived         0\n",
       "Pclass           0\n",
       "Name             0\n",
       "Sex              0\n",
       "Age              0\n",
       "SibSp            0\n",
       "Parch            0\n",
       "Ticket           0\n",
       "Fare             0\n",
       "Cabin          687\n",
       "Embarked         2\n",
       "dtype: int64"
      ]
     },
     "execution_count": 60,
     "metadata": {},
     "output_type": "execute_result"
    }
   ],
   "source": [
    "cols = ['PassengerId', 'Survived', 'Pclass', 'Name', 'Sex', 'Age',\n",
    "        'SibSp', 'Parch', 'Ticket', 'Fare', 'Cabin', 'Embarked']\n",
    "for col in cols:\n",
    "    print(col, '\\t\\t missed values?\\t\\t', trainDF[col].isnull().values.any())\n",
    "trainDF.isna().sum()"
   ]
  },
  {
   "cell_type": "markdown",
   "id": "adequate-converter",
   "metadata": {},
   "source": [
    "#### Check The types in columns\n",
    "* Are all numbers except \"Name\", \"Ticket\", \"Cabin\", \"Embarked\""
   ]
  },
  {
   "cell_type": "code",
   "execution_count": 61,
   "id": "disabled-basin",
   "metadata": {
    "scrolled": true
   },
   "outputs": [
    {
     "data": {
      "text/plain": [
       "PassengerId      int64\n",
       "Survived         int64\n",
       "Pclass           int64\n",
       "Name            object\n",
       "Sex              int64\n",
       "Age            float64\n",
       "SibSp            int64\n",
       "Parch            int64\n",
       "Ticket          object\n",
       "Fare           float64\n",
       "Cabin           object\n",
       "Embarked        object\n",
       "dtype: object"
      ]
     },
     "execution_count": 61,
     "metadata": {},
     "output_type": "execute_result"
    }
   ],
   "source": [
    "trainDF.dtypes"
   ]
  },
  {
   "cell_type": "code",
   "execution_count": 62,
   "id": "english-convert",
   "metadata": {},
   "outputs": [
    {
     "data": {
      "text/plain": [
       "array(['S', 'C', 'Q', nan], dtype=object)"
      ]
     },
     "execution_count": 62,
     "metadata": {},
     "output_type": "execute_result"
    }
   ],
   "source": [
    "trainDF['Embarked'].unique()"
   ]
  },
  {
   "cell_type": "markdown",
   "id": "attended-hometown",
   "metadata": {},
   "source": [
    "#### Feature Engineering\n",
    "* The column embarked has some missing value and, the non missing values, are categorical (S, C Q):\n",
    " * SimpleImputer (most_frequent) + OneHotEncoder\n",
    "* The column \"Age\" is metric and is complete (we added missing value before!)\n",
    " * KBinsDiscretizer ('kids', 'youngs', 'adults', 'old')\n",
    "* Cabin has too many missing values (687 missing values)\n",
    " * Drop it\n",
    "* SibSp and parch are complete (SibSp number of sibblings/spouse parch n children/parents)\n",
    " * An idea could be to sum the two columns because they are related to relatives\n",
    " * Maybe then to make a KBinsI=Discretizer ('small', 'norm', 'big') uniform\n",
    "* Fare is complete and metric\n",
    " * MinMaxScaler or two transformations: power the fare with Pclass (FuncTrans) and than scale with MinMax\n",
    "* Ticket: what to do with ticket number? Does it contain some info? How to extract it?\n",
    " * drop\n",
    "* Name of passenger: does it contain some info useful to survive or die?\n",
    " * drop or use the suggestion in course: FuncTrans to count the lengths"
   ]
  },
  {
   "cell_type": "markdown",
   "id": "cultural-radiation",
   "metadata": {},
   "source": []
  },
  {
   "cell_type": "code",
   "execution_count": 63,
   "id": "covered-judge",
   "metadata": {},
   "outputs": [],
   "source": [
    "y = trainDF['Survived']\n",
    "X = trainDF"
   ]
  },
  {
   "cell_type": "code",
   "execution_count": 64,
   "id": "defined-relief",
   "metadata": {},
   "outputs": [],
   "source": [
    "#### sum SibSp and Parch columns\n",
    "X['num_relatives'] = X['Parch'] + X['SibSp']"
   ]
  },
  {
   "cell_type": "markdown",
   "id": "lined-medline",
   "metadata": {},
   "source": [
    "#### Split into train and test data"
   ]
  },
  {
   "cell_type": "code",
   "execution_count": 65,
   "id": "chronic-pennsylvania",
   "metadata": {},
   "outputs": [],
   "source": [
    "X_train, X_test, y_train, y_test = train_test_split(X, y)"
   ]
  },
  {
   "cell_type": "code",
   "execution_count": 66,
   "id": "quality-victory",
   "metadata": {},
   "outputs": [],
   "source": [
    "# imputer and oneHotEncode that we use later for \"Embarked\"\n",
    "impute_and_encode = make_pipeline(\n",
    "                            SimpleImputer(strategy= 'most_frequent'),\n",
    "                            OneHotEncoder(sparse = False))"
   ]
  },
  {
   "cell_type": "code",
   "execution_count": 67,
   "id": "comparable-house",
   "metadata": {},
   "outputs": [],
   "source": [
    "def mod_Fare(df):\n",
    "    c = df[df.columns[0]]\n",
    "    return (df[df.columns[1]]**(1/c)).values.reshape(-1,1)"
   ]
  },
  {
   "cell_type": "code",
   "execution_count": 68,
   "id": "formal-framework",
   "metadata": {},
   "outputs": [],
   "source": [
    "# power and scale to be applied to fares\n",
    "modFare_and_scale = make_pipeline(\n",
    "                            FunctionTransformer(mod_Fare),\n",
    "                            MinMaxScaler())"
   ]
  },
  {
   "cell_type": "code",
   "execution_count": 69,
   "id": "appointed-validation",
   "metadata": {},
   "outputs": [],
   "source": [
    "# add self defined function\n",
    "def name_length(df):\n",
    "    length = df[df.columns[0]].str.len()\n",
    "    return length.values.reshape(-1, 1)"
   ]
  },
  {
   "cell_type": "code",
   "execution_count": null,
   "id": "expected-nerve",
   "metadata": {},
   "outputs": [],
   "source": []
  },
  {
   "cell_type": "code",
   "execution_count": 70,
   "id": "ancient-dictionary",
   "metadata": {},
   "outputs": [],
   "source": [
    "# Initialize ColumnTransformer\n",
    "feat_eng = ColumnTransformer(\n",
    "        [ #('fareScaled', MinMaxScaler(), ['Fare']),\n",
    "          ('binsAge', KBinsDiscretizer(n_bins=3, encode='onehot-dense', strategy='uniform'), ['Age']),\n",
    "          ('notDrop', 'passthrough', ['Sex']),\n",
    "          #('notDropRel', 'passthrough', ['num_relatives']),\n",
    "          ('binsRel', KBinsDiscretizer(n_bins=3, encode='onehot-dense', strategy='uniform'), ['num_relatives']),\n",
    "          #('HotClass', OneHotEncoder(sparse=False), ['Pclass']),\n",
    "          #('nameLength', FunctionTransformer(name_length), ['Name']),\n",
    "          #('modFares', FunctionTransformer(mod_Fare), ['Pclass', 'Fare']),\n",
    "          ('pip_fares', modFare_and_scale, ['Pclass', 'Fare']),\n",
    "          #('HotEmbarked', impute_and_encode, ['Embarked']),                    \n",
    "        ],\n",
    "        remainder = 'drop')"
   ]
  },
  {
   "cell_type": "code",
   "execution_count": 71,
   "id": "mobile-northeast",
   "metadata": {
    "scrolled": false
   },
   "outputs": [
    {
     "data": {
      "text/html": [
       "<div>\n",
       "<style scoped>\n",
       "    .dataframe tbody tr th:only-of-type {\n",
       "        vertical-align: middle;\n",
       "    }\n",
       "\n",
       "    .dataframe tbody tr th {\n",
       "        vertical-align: top;\n",
       "    }\n",
       "\n",
       "    .dataframe thead th {\n",
       "        text-align: right;\n",
       "    }\n",
       "</style>\n",
       "<table border=\"1\" class=\"dataframe\">\n",
       "  <thead>\n",
       "    <tr style=\"text-align: right;\">\n",
       "      <th></th>\n",
       "      <th>PassengerId</th>\n",
       "      <th>Survived</th>\n",
       "      <th>Pclass</th>\n",
       "      <th>Name</th>\n",
       "      <th>Sex</th>\n",
       "      <th>Age</th>\n",
       "      <th>SibSp</th>\n",
       "      <th>Parch</th>\n",
       "      <th>Ticket</th>\n",
       "      <th>Fare</th>\n",
       "      <th>Cabin</th>\n",
       "      <th>Embarked</th>\n",
       "      <th>num_relatives</th>\n",
       "    </tr>\n",
       "  </thead>\n",
       "  <tbody>\n",
       "    <tr>\n",
       "      <th>670</th>\n",
       "      <td>671</td>\n",
       "      <td>1</td>\n",
       "      <td>2</td>\n",
       "      <td>Brown, Mrs. Thomas William Solomon (Elizabeth ...</td>\n",
       "      <td>1</td>\n",
       "      <td>40.00</td>\n",
       "      <td>1</td>\n",
       "      <td>1</td>\n",
       "      <td>29750</td>\n",
       "      <td>39.0</td>\n",
       "      <td>NaN</td>\n",
       "      <td>S</td>\n",
       "      <td>2</td>\n",
       "    </tr>\n",
       "    <tr>\n",
       "      <th>868</th>\n",
       "      <td>869</td>\n",
       "      <td>0</td>\n",
       "      <td>3</td>\n",
       "      <td>van Melkebeke, Mr. Philemon</td>\n",
       "      <td>0</td>\n",
       "      <td>30.63</td>\n",
       "      <td>0</td>\n",
       "      <td>0</td>\n",
       "      <td>345777</td>\n",
       "      <td>9.5</td>\n",
       "      <td>NaN</td>\n",
       "      <td>S</td>\n",
       "      <td>0</td>\n",
       "    </tr>\n",
       "    <tr>\n",
       "      <th>183</th>\n",
       "      <td>184</td>\n",
       "      <td>1</td>\n",
       "      <td>2</td>\n",
       "      <td>Becker, Master. Richard F</td>\n",
       "      <td>0</td>\n",
       "      <td>1.00</td>\n",
       "      <td>2</td>\n",
       "      <td>1</td>\n",
       "      <td>230136</td>\n",
       "      <td>39.0</td>\n",
       "      <td>F4</td>\n",
       "      <td>S</td>\n",
       "      <td>3</td>\n",
       "    </tr>\n",
       "  </tbody>\n",
       "</table>\n",
       "</div>"
      ],
      "text/plain": [
       "     PassengerId  Survived  Pclass  \\\n",
       "670          671         1       2   \n",
       "868          869         0       3   \n",
       "183          184         1       2   \n",
       "\n",
       "                                                  Name  Sex    Age  SibSp  \\\n",
       "670  Brown, Mrs. Thomas William Solomon (Elizabeth ...    1  40.00      1   \n",
       "868                        van Melkebeke, Mr. Philemon    0  30.63      0   \n",
       "183                          Becker, Master. Richard F    0   1.00      2   \n",
       "\n",
       "     Parch  Ticket  Fare Cabin Embarked  num_relatives  \n",
       "670      1   29750  39.0   NaN        S              2  \n",
       "868      0  345777   9.5   NaN        S              0  \n",
       "183      1  230136  39.0    F4        S              3  "
      ]
     },
     "execution_count": 71,
     "metadata": {},
     "output_type": "execute_result"
    }
   ],
   "source": [
    "X_train.head(3)"
   ]
  },
  {
   "cell_type": "code",
   "execution_count": 72,
   "id": "magnetic-forth",
   "metadata": {},
   "outputs": [],
   "source": [
    "# fit the ColumnTransformer\n",
    "feat_eng.fit(X_train)\n",
    "# tranform\n",
    "X_train_trans =  feat_eng.transform(X_train)"
   ]
  },
  {
   "cell_type": "code",
   "execution_count": 73,
   "id": "imposed-finding",
   "metadata": {
    "scrolled": true
   },
   "outputs": [
    {
     "data": {
      "text/html": [
       "<div>\n",
       "<style scoped>\n",
       "    .dataframe tbody tr th:only-of-type {\n",
       "        vertical-align: middle;\n",
       "    }\n",
       "\n",
       "    .dataframe tbody tr th {\n",
       "        vertical-align: top;\n",
       "    }\n",
       "\n",
       "    .dataframe thead th {\n",
       "        text-align: right;\n",
       "    }\n",
       "</style>\n",
       "<table border=\"1\" class=\"dataframe\">\n",
       "  <thead>\n",
       "    <tr style=\"text-align: right;\">\n",
       "      <th></th>\n",
       "      <th>0</th>\n",
       "      <th>1</th>\n",
       "      <th>2</th>\n",
       "      <th>3</th>\n",
       "      <th>4</th>\n",
       "      <th>5</th>\n",
       "      <th>6</th>\n",
       "      <th>7</th>\n",
       "    </tr>\n",
       "  </thead>\n",
       "  <tbody>\n",
       "    <tr>\n",
       "      <th>0</th>\n",
       "      <td>0.0</td>\n",
       "      <td>1.0</td>\n",
       "      <td>0.0</td>\n",
       "      <td>1.0</td>\n",
       "      <td>1.0</td>\n",
       "      <td>0.0</td>\n",
       "      <td>0.0</td>\n",
       "      <td>0.012189</td>\n",
       "    </tr>\n",
       "    <tr>\n",
       "      <th>1</th>\n",
       "      <td>0.0</td>\n",
       "      <td>1.0</td>\n",
       "      <td>0.0</td>\n",
       "      <td>0.0</td>\n",
       "      <td>1.0</td>\n",
       "      <td>0.0</td>\n",
       "      <td>0.0</td>\n",
       "      <td>0.004134</td>\n",
       "    </tr>\n",
       "    <tr>\n",
       "      <th>2</th>\n",
       "      <td>1.0</td>\n",
       "      <td>0.0</td>\n",
       "      <td>0.0</td>\n",
       "      <td>0.0</td>\n",
       "      <td>1.0</td>\n",
       "      <td>0.0</td>\n",
       "      <td>0.0</td>\n",
       "      <td>0.012189</td>\n",
       "    </tr>\n",
       "  </tbody>\n",
       "</table>\n",
       "</div>"
      ],
      "text/plain": [
       "     0    1    2    3    4    5    6         7\n",
       "0  0.0  1.0  0.0  1.0  1.0  0.0  0.0  0.012189\n",
       "1  0.0  1.0  0.0  0.0  1.0  0.0  0.0  0.004134\n",
       "2  1.0  0.0  0.0  0.0  1.0  0.0  0.0  0.012189"
      ]
     },
     "execution_count": 73,
     "metadata": {},
     "output_type": "execute_result"
    }
   ],
   "source": [
    "X_train_transDF = pd.DataFrame(X_train_trans)\n",
    "X_train_transDF.head(3)"
   ]
  },
  {
   "cell_type": "code",
   "execution_count": 74,
   "id": "desirable-shame",
   "metadata": {},
   "outputs": [],
   "source": [
    "#feat_eng.named_transformers_['fareScaled']"
   ]
  },
  {
   "cell_type": "code",
   "execution_count": 75,
   "id": "latin-sociology",
   "metadata": {},
   "outputs": [
    {
     "data": {
      "text/plain": [
       "LogisticRegression(max_iter=10000)"
      ]
     },
     "execution_count": 75,
     "metadata": {},
     "output_type": "execute_result"
    }
   ],
   "source": [
    "model = LogisticRegression(max_iter=10000)\n",
    "model.fit(X_train_trans, y_train)"
   ]
  },
  {
   "cell_type": "code",
   "execution_count": 76,
   "id": "collect-laundry",
   "metadata": {},
   "outputs": [],
   "source": [
    "# transform also the test data\n",
    "X_test_trans = feat_eng.transform(X_test)\n",
    "# prediction\n",
    "y_pred = model.predict(X_test_trans)"
   ]
  },
  {
   "cell_type": "code",
   "execution_count": 77,
   "id": "eleven-impossible",
   "metadata": {},
   "outputs": [
    {
     "data": {
      "text/plain": [
       "0.8251121076233184"
      ]
     },
     "execution_count": 77,
     "metadata": {},
     "output_type": "execute_result"
    }
   ],
   "source": [
    "acc_LogReg = metrics.accuracy_score(y_test, y_pred)\n",
    "acc_LogReg"
   ]
  },
  {
   "cell_type": "markdown",
   "id": "protecting-cache",
   "metadata": {},
   "source": [
    "#### Implementing a decision treee classifier"
   ]
  },
  {
   "cell_type": "code",
   "execution_count": 78,
   "id": "mature-cooking",
   "metadata": {},
   "outputs": [
    {
     "data": {
      "text/plain": [
       "DecisionTreeClassifier(max_depth=3)"
      ]
     },
     "execution_count": 78,
     "metadata": {},
     "output_type": "execute_result"
    }
   ],
   "source": [
    "DT_model = DecisionTreeClassifier(max_depth=3)\n",
    "DT_model.fit(X_train_trans, y_train)"
   ]
  },
  {
   "cell_type": "code",
   "execution_count": 79,
   "id": "intense-symphony",
   "metadata": {},
   "outputs": [],
   "source": [
    "# predict test data\n",
    "y_pred_DT = DT_model.predict(X_test_trans)"
   ]
  },
  {
   "cell_type": "code",
   "execution_count": 80,
   "id": "sealed-malpractice",
   "metadata": {},
   "outputs": [
    {
     "data": {
      "text/plain": [
       "0.820627802690583"
      ]
     },
     "execution_count": 80,
     "metadata": {},
     "output_type": "execute_result"
    }
   ],
   "source": [
    "# evaluate the model\n",
    "acc_DT = metrics.accuracy_score(y_test, y_pred_DT)\n",
    "acc_DT"
   ]
  },
  {
   "cell_type": "code",
   "execution_count": 81,
   "id": "amino-judgment",
   "metadata": {},
   "outputs": [
    {
     "name": "stdout",
     "output_type": "stream",
     "text": [
      "['0', '1', '2', '3', '4', '5', '6', '7']\n"
     ]
    }
   ],
   "source": [
    "# what columns and how many columns does my training dataframe \n",
    "X_train_transDF.columns\n",
    "X_train_transDF\n",
    "feats = list(X_train_transDF.columns[0:])\n",
    "feats = [str(x) for x in feats]\n",
    "print(feats)"
   ]
  },
  {
   "cell_type": "code",
   "execution_count": 82,
   "id": "authorized-filename",
   "metadata": {},
   "outputs": [
    {
     "name": "stdout",
     "output_type": "stream",
     "text": [
      "['0', '1']\n"
     ]
    }
   ],
   "source": [
    "# what classes predicts my models?\n",
    "DT_model.classes_\n",
    "cn = DT_model.classes_\n",
    "cn = [str(x) for x in cn]\n",
    "print(cn)"
   ]
  },
  {
   "cell_type": "code",
   "execution_count": 83,
   "id": "appointed-globe",
   "metadata": {},
   "outputs": [
    {
     "data": {
      "image/png": "[encoded data removed]",
      "text/plain": [
       "<Figure size 864x576 with 1 Axes>"
      ]
     },
     "metadata": {
      "needs_background": "light"
     },
     "output_type": "display_data"
    }
   ],
   "source": [
    "# plot the decision tree\n",
    "plt.figure(figsize=(12,8))\n",
    "t = plot_tree(DT_model, feature_names=feats, class_names=cn)"
   ]
  },
  {
   "cell_type": "code",
   "execution_count": 84,
   "id": "guilty-melbourne",
   "metadata": {},
   "outputs": [
    {
     "data": {
      "text/plain": [
       "array([0.        , 0.        , 0.        , 0.67710346, 0.0987132 ,\n",
       "       0.        , 0.        , 0.22418335])"
      ]
     },
     "execution_count": 84,
     "metadata": {},
     "output_type": "execute_result"
    }
   ],
   "source": [
    "# check importance of features\n",
    "DT_model.feature_importances_"
   ]
  },
  {
   "cell_type": "markdown",
   "id": "dramatic-counter",
   "metadata": {},
   "source": [
    "#### Implementing Random Forest"
   ]
  },
  {
   "cell_type": "code",
   "execution_count": 85,
   "id": "prescribed-madrid",
   "metadata": {},
   "outputs": [],
   "source": [
    "rfc = RandomForestClassifier(n_estimators=300)"
   ]
  },
  {
   "cell_type": "code",
   "execution_count": 86,
   "id": "smaller-savings",
   "metadata": {},
   "outputs": [
    {
     "data": {
      "text/plain": [
       "RandomForestClassifier(n_estimators=300)"
      ]
     },
     "execution_count": 86,
     "metadata": {},
     "output_type": "execute_result"
    }
   ],
   "source": [
    "rfc.fit(X_train_trans, y_train)"
   ]
  },
  {
   "cell_type": "code",
   "execution_count": 87,
   "id": "specific-pastor",
   "metadata": {},
   "outputs": [],
   "source": [
    "# pediction\n",
    "y_pred_RF = rfc.predict(X_test_trans)"
   ]
  },
  {
   "cell_type": "code",
   "execution_count": 88,
   "id": "derived-luxury",
   "metadata": {},
   "outputs": [
    {
     "data": {
      "text/plain": [
       "0.8161434977578476"
      ]
     },
     "execution_count": 88,
     "metadata": {},
     "output_type": "execute_result"
    }
   ],
   "source": [
    "# evaluation\n",
    "acc_RF = metrics.accuracy_score(y_test, y_pred_RF)\n",
    "acc_RF"
   ]
  },
  {
   "cell_type": "code",
   "execution_count": 89,
   "id": "transparent-specialist",
   "metadata": {},
   "outputs": [
    {
     "data": {
      "text/plain": [
       "<sklearn.metrics._plot.confusion_matrix.ConfusionMatrixDisplay at 0x7f53a47d6d90>"
      ]
     },
     "execution_count": 89,
     "metadata": {},
     "output_type": "execute_result"
    },
    {
     "data": {
      "image/png": "[encoded data removed]",
      "text/plain": [
       "<Figure size 432x288 with 2 Axes>"
      ]
     },
     "metadata": {
      "needs_background": "light"
     },
     "output_type": "display_data"
    }
   ],
   "source": [
    "metrics.plot_confusion_matrix(rfc, X_test_trans, y_test, cmap=plt.cm.Greens)"
   ]
  },
  {
   "cell_type": "code",
   "execution_count": 90,
   "id": "friendly-grammar",
   "metadata": {},
   "outputs": [],
   "source": [
    "importance =rfc.feature_importances_"
   ]
  },
  {
   "cell_type": "code",
   "execution_count": 91,
   "id": "compliant-objective",
   "metadata": {},
   "outputs": [
    {
     "data": {
      "image/png": "[encoded data removed]",
      "text/plain": [
       "<Figure size 720x432 with 1 Axes>"
      ]
     },
     "metadata": {
      "needs_background": "light"
     },
     "output_type": "display_data"
    }
   ],
   "source": [
    "fig = plt.figure(figsize=(10,6))\n",
    "\n",
    "plt.bar([x for x in range(len(importance))], importance, alpha=0.5 )\n",
    "plt.title('Random Forest Feature Importance')\n",
    "x = np.array([0,1,2,3,4,5,6,7])\n",
    "my_xticks = ['YOUNG', 'ADULT', 'OLD',\n",
    "                        'SEX', 'SMALL_FAM', 'MED_FAM',\n",
    "                        'BIG_FAM', 'Trans_FARE']\n",
    "\n",
    "\n",
    "plt.xticks(x, my_xticks)              #Feature 0: Culmen_depth\n",
    "                                                                  # Feature 1: Culmen_length\n",
    "plt.ylabel('Score')\n",
    "plt.show()"
   ]
  },
  {
   "cell_type": "markdown",
   "id": "broad-league",
   "metadata": {},
   "source": [
    "#### Accuracy compraison between LogReg, DecTree and RandFor"
   ]
  },
  {
   "cell_type": "code",
   "execution_count": 92,
   "id": "retired-maximum",
   "metadata": {},
   "outputs": [
    {
     "data": {
      "text/plain": [
       "[0.8251121076233184, 0.820627802690583, 0.8161434977578476]"
      ]
     },
     "execution_count": 92,
     "metadata": {},
     "output_type": "execute_result"
    }
   ],
   "source": [
    "# comparison LogReg, DecTree and RandFor\n",
    "models_accs =[acc_LogReg, acc_DT, acc_RF]\n",
    "models_accs"
   ]
  },
  {
   "cell_type": "code",
   "execution_count": 93,
   "id": "coral-swimming",
   "metadata": {},
   "outputs": [
    {
     "data": {
      "text/plain": [
       "Text(0, 0.5, 'Accuracy')"
      ]
     },
     "execution_count": 93,
     "metadata": {},
     "output_type": "execute_result"
    },
    {
     "data": {
      "image/png": "[encoded data removed]",
      "text/plain": [
       "<Figure size 288x288 with 1 Axes>"
      ]
     },
     "metadata": {
      "needs_background": "light"
     },
     "output_type": "display_data"
    }
   ],
   "source": [
    "fig, ax = plt.subplots(figsize=(4,4))\n",
    "plt.plot(models_accs, 'ko')\n",
    "x = np.array([0,1,2])\n",
    "my_xticks = ['Log_Reg', 'Dec_Tree', 'Rand_For']\n",
    "plt.xticks(x, my_xticks)\n",
    "plt.ylabel('Accuracy')"
   ]
  },
  {
   "cell_type": "markdown",
   "id": "reverse-thermal",
   "metadata": {},
   "source": [
    "### Since the Logatimic Regression perfomed better than the other ones, I used it for submitting results in Kaggle (actual score 0.7751)\n"
   ]
  },
  {
   "cell_type": "markdown",
   "id": "burning-aviation",
   "metadata": {},
   "source": [
    "#### Cross validation"
   ]
  },
  {
   "cell_type": "code",
   "execution_count": 94,
   "id": "laden-train",
   "metadata": {},
   "outputs": [],
   "source": [
    "m = RandomForestClassifier(n_estimators=100, max_depth=4, n_jobs=1)"
   ]
  },
  {
   "cell_type": "code",
   "execution_count": 95,
   "id": "considered-problem",
   "metadata": {},
   "outputs": [],
   "source": [
    "cv_results = cross_validate(\n",
    "    estimator = m,             # the model you want to evaluate \n",
    "    X = X_train_trans,         # the training input data \n",
    "    y = y_train,               # the training output data  \n",
    "    cv = 5,                    # number of cross validation datasets \n",
    "    scoring = 'accuracy',               # evaluation metric, also list\n",
    "    return_train_score = True,   # return both the score on the training and the cross validated data\n",
    "    n_jobs = 2                   # n_jobs = -1 for using all your processores\n",
    ")"
   ]
  },
  {
   "cell_type": "code",
   "execution_count": 96,
   "id": "large-houston",
   "metadata": {},
   "outputs": [
    {
     "data": {
      "text/html": [
       "<div>\n",
       "<style scoped>\n",
       "    .dataframe tbody tr th:only-of-type {\n",
       "        vertical-align: middle;\n",
       "    }\n",
       "\n",
       "    .dataframe tbody tr th {\n",
       "        vertical-align: top;\n",
       "    }\n",
       "\n",
       "    .dataframe thead th {\n",
       "        text-align: right;\n",
       "    }\n",
       "</style>\n",
       "<table border=\"1\" class=\"dataframe\">\n",
       "  <thead>\n",
       "    <tr style=\"text-align: right;\">\n",
       "      <th></th>\n",
       "      <th>fit_time</th>\n",
       "      <th>score_time</th>\n",
       "      <th>test_score</th>\n",
       "      <th>train_score</th>\n",
       "    </tr>\n",
       "  </thead>\n",
       "  <tbody>\n",
       "    <tr>\n",
       "      <th>0</th>\n",
       "      <td>0.232210</td>\n",
       "      <td>0.019765</td>\n",
       "      <td>0.776119</td>\n",
       "      <td>0.812734</td>\n",
       "    </tr>\n",
       "    <tr>\n",
       "      <th>1</th>\n",
       "      <td>0.177439</td>\n",
       "      <td>0.011628</td>\n",
       "      <td>0.813433</td>\n",
       "      <td>0.805243</td>\n",
       "    </tr>\n",
       "    <tr>\n",
       "      <th>2</th>\n",
       "      <td>0.263248</td>\n",
       "      <td>0.020906</td>\n",
       "      <td>0.753731</td>\n",
       "      <td>0.823970</td>\n",
       "    </tr>\n",
       "    <tr>\n",
       "      <th>3</th>\n",
       "      <td>0.282070</td>\n",
       "      <td>0.019036</td>\n",
       "      <td>0.804511</td>\n",
       "      <td>0.805607</td>\n",
       "    </tr>\n",
       "    <tr>\n",
       "      <th>4</th>\n",
       "      <td>0.151953</td>\n",
       "      <td>0.010212</td>\n",
       "      <td>0.834586</td>\n",
       "      <td>0.801869</td>\n",
       "    </tr>\n",
       "  </tbody>\n",
       "</table>\n",
       "</div>"
      ],
      "text/plain": [
       "   fit_time  score_time  test_score  train_score\n",
       "0  0.232210    0.019765    0.776119     0.812734\n",
       "1  0.177439    0.011628    0.813433     0.805243\n",
       "2  0.263248    0.020906    0.753731     0.823970\n",
       "3  0.282070    0.019036    0.804511     0.805607\n",
       "4  0.151953    0.010212    0.834586     0.801869"
      ]
     },
     "execution_count": 96,
     "metadata": {},
     "output_type": "execute_result"
    }
   ],
   "source": [
    "pd.DataFrame(cv_results)"
   ]
  },
  {
   "cell_type": "code",
   "execution_count": 97,
   "id": "revolutionary-southeast",
   "metadata": {},
   "outputs": [],
   "source": [
    "mLR = LogisticRegression(max_iter=10000)\n",
    "mDT = DecisionTreeClassifier(max_depth=4)\n",
    "mRF = RandomForestClassifier(n_estimators=100, max_depth=4, n_jobs=1)\n",
    "models = [mLR, mDT, mRF]"
   ]
  },
  {
   "cell_type": "code",
   "execution_count": 98,
   "id": "welcome-remains",
   "metadata": {},
   "outputs": [],
   "source": [
    "cv_results = []\n",
    "trainScores, testScores = [], []\n",
    "for m in models:\n",
    "    cval = cross_validate(\n",
    "    estimator = m,             # the model you want to evaluate \n",
    "    X = X_train_trans,         # the training input data \n",
    "    y = y_train,               # the training output data  \n",
    "    cv = 5,                    # number of cross validation datasets \n",
    "    scoring = 'accuracy',               # evaluation metric, also list\n",
    "    return_train_score = True,   # return both the score on the training and the cross validated data\n",
    "    n_jobs = 2 )  # n_jobs = -1 for using all your processores\n",
    "    cv_results.append(cval)\n",
    "    trainScores.append(cval['train_score'])\n",
    "    testScores.append(cval['test_score'])\n",
    "    #cvalDF = pd.DataFrame(cval)\n",
    "    #cv_results.append(cvalDF)\n",
    "    "
   ]
  },
  {
   "cell_type": "code",
   "execution_count": 99,
   "id": "equivalent-sacramento",
   "metadata": {},
   "outputs": [],
   "source": [
    "trainScores = np.array(trainScores).transpose()\n",
    "testScores = np.array(testScores).transpose()"
   ]
  },
  {
   "cell_type": "code",
   "execution_count": 100,
   "id": "electric-preview",
   "metadata": {},
   "outputs": [],
   "source": [
    "testScoresDF = pd.DataFrame(testScores,\n",
    "                           columns = ['LR_test', 'DT_test', 'RF_test'])\n",
    "meanTestScores = testScoresDF.mean()\n",
    "\n",
    "trainScoresDF = pd.DataFrame(trainScores,\n",
    "                           columns = ['LR_train', 'DT_train', 'RF_train'])\n",
    "meanTrainScores = trainScoresDF.mean()"
   ]
  },
  {
   "cell_type": "code",
   "execution_count": 138,
   "id": "detected-classic",
   "metadata": {},
   "outputs": [
    {
     "data": {
      "image/png": "[encoded data removed]",
      "text/plain": [
       "<Figure size 1008x288 with 2 Axes>"
      ]
     },
     "metadata": {
      "needs_background": "light"
     },
     "output_type": "display_data"
    }
   ],
   "source": [
    "fig, axs = plt.subplots(1,2,figsize = (14,4))\n",
    "axs[0].plot(meanTrainScores, 'bo', label = 'train', markersize=12)\n",
    "axs[1].plot(meanTestScores, 'r*', label = 'test', markersize = 12)\n",
    "fig.text(0.06, 0.5, 'Accuracy', va='center', rotation='vertical', size=13)\n",
    "#plt.suptitle('Mean accuracy (5 folds)')\n",
    "axs[0].title.set_text('Average accuracy (train data)')\n",
    "axs[1].title.set_text('Average accuracy (test data)')\n",
    "x = np.array([0,1,2])\n",
    "my_xticks = ['Log_Reg', 'Dec_Tree', 'Rand_For']\n",
    "plt.sca(axs[0])\n",
    "plt.xticks(range(3), my_xticks, color='blue')\n",
    "plt.yticks(color = 'blue')\n",
    "plt.sca(axs[1])\n",
    "plt.xticks(range(3), my_xticks, color='red')\n",
    "plt.yticks(color = 'red')\n",
    "axs[0].axis(ymin=0.8,ymax=0.82)\n",
    "axs[1].axis(ymin=0.79,ymax=0.81)\n",
    "#plt.yticks(np.arange(min(meanTestScores)-0.03, max(meanTestScores)+0.03, 0.02))\n",
    "axs[0].legend(loc='lower right')\n",
    "axs[1].legend(loc='lower left')#, bbox_to_anchor=(1.2, 0.87), ncol=1)\n",
    "fig.subplots_adjust(left=None, bottom=None, right=None, top=None, wspace=0.5, hspace=None)"
   ]
  },
  {
   "cell_type": "code",
   "execution_count": 140,
   "id": "2d7b2f94",
   "metadata": {},
   "outputs": [],
   "source": [
    "fig.savefig('./images/accuracy_comparison.png')"
   ]
  },
  {
   "cell_type": "code",
   "execution_count": null,
   "id": "57ea6dfe",
   "metadata": {},
   "outputs": [],
   "source": []
  }
 ],
 "metadata": {
  "kernelspec": {
   "display_name": "Python 3",
   "language": "python",
   "name": "python3"
  },
  "language_info": {
   "codemirror_mode": {
    "name": "ipython",
    "version": 3
   },
   "file_extension": ".py",
   "mimetype": "text/x-python",
   "name": "python",
   "nbconvert_exporter": "python",
   "pygments_lexer": "ipython3",
   "version": "3.8.5"
  }
 },
 "nbformat": 4,
 "nbformat_minor": 5
}
